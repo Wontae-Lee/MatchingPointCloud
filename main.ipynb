{
 "cells": [
  {
   "cell_type": "code",
   "execution_count": 26,
   "outputs": [],
   "source": [
    "import numpy as np\n",
    "from dataset.desampling import DeSampling\n",
    "from dataset.utils import visualize_point_cloud\n"
   ],
   "metadata": {
    "collapsed": false,
    "ExecuteTime": {
     "end_time": "2023-11-21T05:58:50.185510400Z",
     "start_time": "2023-11-21T05:58:50.159318100Z"
    }
   },
   "id": "fc871984fa42a73"
  },
  {
   "cell_type": "code",
   "execution_count": 2,
   "outputs": [],
   "source": [
    "implant_sample3 = np.load('./dataset/geometry/implant_sample3.npy', allow_pickle=True)\n",
    "implant_center2 = np.load('./dataset/geometry/implant_center2.npy', allow_pickle=True)\n",
    "implant_sample2 = np.load('./dataset/geometry/implant_sample2.npy', allow_pickle=True)\n",
    "implant_center1 = np.load('./dataset/geometry/implant_center1.npy', allow_pickle=True)\n",
    "implant_sample1 = np.load('./dataset/geometry/implant_sample1.npy', allow_pickle=True)\n",
    "implant = np.load('./dataset/geometry/implant.npy', allow_pickle=True)"
   ],
   "metadata": {
    "collapsed": false,
    "ExecuteTime": {
     "end_time": "2023-11-21T04:29:26.402883200Z",
     "start_time": "2023-11-21T04:29:26.277880500Z"
    }
   },
   "id": "fe4d340398969b64"
  },
  {
   "cell_type": "code",
   "execution_count": 3,
   "outputs": [],
   "source": [
    "bone_sample3 = np.load('./dataset/geometry/bone_sample3.npy', allow_pickle=True)\n",
    "bone_center2 = np.load('./dataset/geometry/bone_center2.npy', allow_pickle=True)\n",
    "bone_sample2 = np.load('./dataset/geometry/bone_sample2.npy', allow_pickle=True)\n",
    "bone_center1 = np.load('./dataset/geometry/bone_center1.npy', allow_pickle=True)\n",
    "bone_sample1 = np.load('./dataset/geometry/bone_sample1.npy', allow_pickle=True)\n",
    "bone = np.load('./dataset/geometry/bone.npy', allow_pickle=True)"
   ],
   "metadata": {
    "collapsed": false,
    "ExecuteTime": {
     "end_time": "2023-11-21T04:29:26.418511200Z",
     "start_time": "2023-11-21T04:29:26.309127900Z"
    }
   },
   "id": "fd3bd2705e689578"
  },
  {
   "cell_type": "markdown",
   "source": [
    "# 지하 3층"
   ],
   "metadata": {
    "collapsed": false
   },
   "id": "9572b6e7f52c5c86"
  },
  {
   "cell_type": "code",
   "execution_count": 4,
   "outputs": [],
   "source": [
    "desampling_implant = DeSampling(\n",
    "    \n",
    "    raw_point_cloud=implant,\n",
    "    sample3=implant_sample3,\n",
    "    center2=implant_center2,\n",
    "    sample2=implant_sample2,\n",
    "    center1=implant_center1,\n",
    "    sample1=implant_sample1,\n",
    ")"
   ],
   "metadata": {
    "collapsed": false,
    "ExecuteTime": {
     "end_time": "2023-11-21T04:29:26.434135500Z",
     "start_time": "2023-11-21T04:29:26.340382700Z"
    }
   },
   "id": "21540a54fdb4513"
  },
  {
   "cell_type": "code",
   "execution_count": 5,
   "outputs": [],
   "source": [
    "desampling_bone = DeSampling(\n",
    "    \n",
    "    raw_point_cloud=bone,\n",
    "    sample3=bone_sample3,\n",
    "    center2=bone_center2,\n",
    "    sample2=bone_sample2,\n",
    "    center1=bone_center1,\n",
    "    sample1=bone_sample1,\n",
    ")"
   ],
   "metadata": {
    "collapsed": false,
    "ExecuteTime": {
     "end_time": "2023-11-21T04:29:26.434135500Z",
     "start_time": "2023-11-21T04:29:26.356005700Z"
    }
   },
   "id": "c988754574ebca62"
  },
  {
   "cell_type": "code",
   "execution_count": 6,
   "outputs": [],
   "source": [
    "implant_feature3 = np.load('./dataset/features/implant_feature3.npy', allow_pickle=True).sum(axis=2).sum(axis=1).reshape(-1, 1)\n",
    "bone_feature3 = np.load('./dataset/features/bone_feature3.npy', allow_pickle=True).sum(axis=2).sum(axis=1).reshape(1, -1)"
   ],
   "metadata": {
    "collapsed": false,
    "ExecuteTime": {
     "end_time": "2023-11-21T04:29:26.434135500Z",
     "start_time": "2023-11-21T04:29:26.371632200Z"
    }
   },
   "id": "d0096fce4a3f429f"
  },
  {
   "cell_type": "code",
   "execution_count": 7,
   "outputs": [],
   "source": [
    "result = np.abs(implant_feature3-bone_feature3)"
   ],
   "metadata": {
    "collapsed": false,
    "ExecuteTime": {
     "end_time": "2023-11-21T04:29:26.434135500Z",
     "start_time": "2023-11-21T04:29:26.402883200Z"
    }
   },
   "id": "2825e78e9121e46d"
  },
  {
   "cell_type": "code",
   "execution_count": 8,
   "outputs": [],
   "source": [
    "from dataset.utils import where_is_min_value_location"
   ],
   "metadata": {
    "collapsed": false,
    "ExecuteTime": {
     "end_time": "2023-11-21T04:29:26.512273200Z",
     "start_time": "2023-11-21T04:29:26.418511200Z"
    }
   },
   "id": "51d7f68eef2e3815"
  },
  {
   "cell_type": "code",
   "execution_count": 9,
   "outputs": [],
   "source": [
    "min_value_location = where_is_min_value_location(result)"
   ],
   "metadata": {
    "collapsed": false,
    "ExecuteTime": {
     "end_time": "2023-11-21T04:29:26.512273200Z",
     "start_time": "2023-11-21T04:29:26.434135500Z"
    }
   },
   "id": "95f2573552a503a9"
  },
  {
   "cell_type": "code",
   "execution_count": 10,
   "outputs": [],
   "source": [
    "implant_pcd = desampling_implant.get_desampled_point_cloud(min_value_location[0][0])\n",
    "bone_pcd = desampling_bone.get_desampled_point_cloud(min_value_location[0][1])"
   ],
   "metadata": {
    "collapsed": false,
    "ExecuteTime": {
     "end_time": "2023-11-21T04:29:26.652906200Z",
     "start_time": "2023-11-21T04:29:26.449763100Z"
    }
   },
   "id": "4943748a597d05d3"
  },
  {
   "cell_type": "code",
   "execution_count": 11,
   "outputs": [],
   "source": [
    "all_pcd = np.concatenate((implant_pcd, bone_pcd), axis=0)\n",
    "raw = np.concatenate((implant, bone), axis=0)"
   ],
   "metadata": {
    "collapsed": false,
    "ExecuteTime": {
     "end_time": "2023-11-21T04:29:26.668641600Z",
     "start_time": "2023-11-21T04:29:26.652906200Z"
    }
   },
   "id": "603e90b89eec8852"
  },
  {
   "cell_type": "code",
   "execution_count": 12,
   "outputs": [
    {
     "data": {
      "text/plain": "PointCloud with 10123 points."
     },
     "execution_count": 12,
     "metadata": {},
     "output_type": "execute_result"
    }
   ],
   "source": [
    "import open3d as o3d\n",
    "\n",
    "pcd_all = o3d.geometry.PointCloud()\n",
    "pcd_all.points = o3d.utility.Vector3dVector(all_pcd)\n",
    "pcd_all.paint_uniform_color([1, 0.706, 0])"
   ],
   "metadata": {
    "collapsed": false,
    "ExecuteTime": {
     "end_time": "2023-11-21T04:29:26.731286800Z",
     "start_time": "2023-11-21T04:29:26.668641600Z"
    }
   },
   "id": "2f51a8a9b0a11345"
  },
  {
   "cell_type": "code",
   "execution_count": 13,
   "outputs": [
    {
     "data": {
      "text/plain": "PointCloud with 200000 points."
     },
     "execution_count": 13,
     "metadata": {},
     "output_type": "execute_result"
    }
   ],
   "source": [
    "pcd_raw = o3d.geometry.PointCloud()\n",
    "pcd_raw.points = o3d.utility.Vector3dVector(raw)\n",
    "pcd_raw.paint_uniform_color([0, 0.651, 0.929])"
   ],
   "metadata": {
    "collapsed": false,
    "ExecuteTime": {
     "end_time": "2023-11-21T04:29:26.731286800Z",
     "start_time": "2023-11-21T04:29:26.699892400Z"
    }
   },
   "id": "622f965fc828f498"
  },
  {
   "cell_type": "code",
   "execution_count": 15,
   "outputs": [],
   "source": [
    "o3d.visualization.draw_geometries([pcd_all, pcd_raw])"
   ],
   "metadata": {
    "collapsed": false,
    "ExecuteTime": {
     "end_time": "2023-11-21T05:35:09.229815800Z",
     "start_time": "2023-11-21T05:34:29.719658200Z"
    }
   },
   "id": "51f84459de9484cf"
  },
  {
   "cell_type": "markdown",
   "source": [
    "# 지하 2층"
   ],
   "metadata": {
    "collapsed": false
   },
   "id": "761440ba14325300"
  },
  {
   "cell_type": "code",
   "execution_count": 34,
   "outputs": [],
   "source": [
    "from dataset.utils import return_points_in_sample"
   ],
   "metadata": {
    "collapsed": false,
    "ExecuteTime": {
     "end_time": "2023-11-21T06:20:26.851584800Z",
     "start_time": "2023-11-21T06:20:26.772863400Z"
    }
   },
   "id": "a59f06ea6469a620"
  },
  {
   "cell_type": "code",
   "execution_count": null,
   "outputs": [],
   "source": [],
   "metadata": {
    "collapsed": false
   },
   "id": "35218ffe06d5e134"
  }
 ],
 "metadata": {
  "kernelspec": {
   "display_name": "Python 3",
   "language": "python",
   "name": "python3"
  },
  "language_info": {
   "codemirror_mode": {
    "name": "ipython",
    "version": 2
   },
   "file_extension": ".py",
   "mimetype": "text/x-python",
   "name": "python",
   "nbconvert_exporter": "python",
   "pygments_lexer": "ipython2",
   "version": "2.7.6"
  }
 },
 "nbformat": 4,
 "nbformat_minor": 5
}
