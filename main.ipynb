{
 "cells": [
  {
   "cell_type": "code",
   "execution_count": 1,
   "id": "initial_id",
   "metadata": {
    "collapsed": true,
    "ExecuteTime": {
     "end_time": "2023-11-13T07:08:34.803727100Z",
     "start_time": "2023-11-13T07:08:33.570476600Z"
    }
   },
   "outputs": [
    {
     "name": "stdout",
     "output_type": "stream",
     "text": [
      "Jupyter environment detected. Enabling Open3D WebVisualizer.\n",
      "[Open3D INFO] WebRTC GUI backend enabled.\n",
      "[Open3D INFO] WebRTCWindowSystem: HTTP handshake server disabled.\n"
     ]
    }
   ],
   "source": [
    "import numpy as np\n",
    "import open3d as o3d"
   ]
  },
  {
   "cell_type": "code",
   "execution_count": 2,
   "outputs": [],
   "source": [
    "def visualize_pointcloud(pointcloud):\n",
    "    pcd = o3d.geometry.PointCloud()\n",
    "    pcd.points = o3d.utility.Vector3dVector(pointcloud)\n",
    "    o3d.visualization.draw_geometries([pcd])"
   ],
   "metadata": {
    "collapsed": false,
    "ExecuteTime": {
     "end_time": "2023-11-13T07:08:34.819351300Z",
     "start_time": "2023-11-13T07:08:34.803727100Z"
    }
   },
   "id": "11fbf9ec5c00f1da"
  },
  {
   "cell_type": "markdown",
   "source": [
    "# 1. Data\n",
    "## 1.1 Generate point cloud from 3D model"
   ],
   "metadata": {
    "collapsed": false
   },
   "id": "7e83110f83ce2cd7"
  },
  {
   "cell_type": "code",
   "execution_count": 3,
   "outputs": [],
   "source": [
    "from dataset.data import Data\n",
    "\n",
    "data = Data(raw_path=\"./dataset/geometry/raw.stl\",\n",
    "            number_of_points=500000,\n",
    "            splicing_height=0.05,\n",
    "            unit=\"mm\",\n",
    "            save_raw=\"./dataset/geometry/raw.npy\",\n",
    "            save_implant=\"./dataset/geometry/implant.npy\",\n",
    "            save_bone=\"./dataset/geometry/bone.npy\")"
   ],
   "metadata": {
    "collapsed": false,
    "ExecuteTime": {
     "end_time": "2023-11-13T07:08:35.064301800Z",
     "start_time": "2023-11-13T07:08:34.829812100Z"
    }
   },
   "id": "cca6c1e95b3abffe"
  },
  {
   "cell_type": "markdown",
   "source": [
    "## 1.2 Subsampling point cloud\n",
    "### 1.2.1 implant"
   ],
   "metadata": {
    "collapsed": false
   },
   "id": "9690944e5974f6c9"
  },
  {
   "cell_type": "code",
   "execution_count": 4,
   "outputs": [],
   "source": [
    "from dataset.sampling import GridSampling\n",
    "\n",
    "implant_sampling = GridSampling(point_cloud_path=\"dataset/geometry/implant.npy\", grid_size=np.array([0.25, 0.25, 0.25]),\n",
    "                                save_sample_path=\"dataset/geometry/implant_sample1.npy\",\n",
    "                                save_center_path=\"dataset/geometry/implant_center1.npy\")\n"
   ],
   "metadata": {
    "collapsed": false,
    "ExecuteTime": {
     "end_time": "2023-11-13T07:08:57.058218100Z",
     "start_time": "2023-11-13T07:08:35.048690700Z"
    }
   },
   "id": "a0290780f52351c4"
  },
  {
   "cell_type": "code",
   "execution_count": 5,
   "outputs": [],
   "source": [
    "implant_sampling2 = GridSampling(point_cloud_path=\"dataset/geometry/implant_center1.npy\", grid_size=np.array([0.5,0.5,0.5]),\n",
    "                         save_sample_path=\"dataset/geometry/implant_sample2.npy\",\n",
    "                         save_center_path=\"dataset/geometry/implant_center2.npy\")\n"
   ],
   "metadata": {
    "collapsed": false,
    "ExecuteTime": {
     "end_time": "2023-11-13T07:09:01.280968700Z",
     "start_time": "2023-11-13T07:08:57.058218100Z"
    }
   },
   "id": "77c7f1c8de745131"
  },
  {
   "cell_type": "code",
   "execution_count": 6,
   "outputs": [],
   "source": [
    "implant_sampling3 = GridSampling(point_cloud_path=\"dataset/geometry/implant_center2.npy\", grid_size=np.array([1,1,1]),\n",
    "                         save_sample_path=\"dataset/geometry/implant_sample3.npy\",\n",
    "                         save_center_path=\"dataset/geometry/implant_center3.npy\")\n"
   ],
   "metadata": {
    "collapsed": false,
    "ExecuteTime": {
     "end_time": "2023-11-13T07:09:01.768660100Z",
     "start_time": "2023-11-13T07:09:01.280968700Z"
    }
   },
   "id": "f6a3a4d37ce5a69e"
  },
  {
   "cell_type": "markdown",
   "source": [
    "### 1.2.2 bone"
   ],
   "metadata": {
    "collapsed": false
   },
   "id": "35362f063aa4afb2"
  },
  {
   "cell_type": "code",
   "execution_count": 10,
   "outputs": [
    {
     "ename": "KeyboardInterrupt",
     "evalue": "",
     "output_type": "error",
     "traceback": [
      "\u001B[1;31m---------------------------------------------------------------------------\u001B[0m",
      "\u001B[1;31mKeyboardInterrupt\u001B[0m                         Traceback (most recent call last)",
      "Cell \u001B[1;32mIn[10], line 1\u001B[0m\n\u001B[1;32m----> 1\u001B[0m bone_sampling \u001B[38;5;241m=\u001B[39m \u001B[43mGridSampling\u001B[49m\u001B[43m(\u001B[49m\u001B[43mpoint_cloud_path\u001B[49m\u001B[38;5;241;43m=\u001B[39;49m\u001B[38;5;124;43m\"\u001B[39;49m\u001B[38;5;124;43mdataset/geometry/bone.npy\u001B[39;49m\u001B[38;5;124;43m\"\u001B[39;49m\u001B[43m,\u001B[49m\u001B[43m \u001B[49m\u001B[43mgrid_size\u001B[49m\u001B[38;5;241;43m=\u001B[39;49m\u001B[43mnp\u001B[49m\u001B[38;5;241;43m.\u001B[39;49m\u001B[43marray\u001B[49m\u001B[43m(\u001B[49m\u001B[43m[\u001B[49m\u001B[38;5;241;43m0.25\u001B[39;49m\u001B[43m,\u001B[49m\u001B[43m \u001B[49m\u001B[38;5;241;43m0.25\u001B[39;49m\u001B[43m,\u001B[49m\u001B[43m \u001B[49m\u001B[38;5;241;43m0.25\u001B[39;49m\u001B[43m]\u001B[49m\u001B[43m)\u001B[49m\u001B[43m,\u001B[49m\n\u001B[0;32m      2\u001B[0m \u001B[43m                                \u001B[49m\u001B[43msave_sample_path\u001B[49m\u001B[38;5;241;43m=\u001B[39;49m\u001B[38;5;124;43m\"\u001B[39;49m\u001B[38;5;124;43mdataset/geometry/bone_sample1.npy\u001B[39;49m\u001B[38;5;124;43m\"\u001B[39;49m\u001B[43m,\u001B[49m\n\u001B[0;32m      3\u001B[0m \u001B[43m                                \u001B[49m\u001B[43msave_center_path\u001B[49m\u001B[38;5;241;43m=\u001B[39;49m\u001B[38;5;124;43m\"\u001B[39;49m\u001B[38;5;124;43mdataset/geometry/bone_center1.npy\u001B[39;49m\u001B[38;5;124;43m\"\u001B[39;49m\u001B[43m)\u001B[49m\n",
      "File \u001B[1;32m~\\PycharmProjects\\MatchingPointCloud\\dataset\\sampling.py:21\u001B[0m, in \u001B[0;36mGridSampling.__init__\u001B[1;34m(self, point_cloud_path, grid_size, save_sample_path, save_center_path)\u001B[0m\n\u001B[0;32m     18\u001B[0m \u001B[38;5;28mself\u001B[39m\u001B[38;5;241m.\u001B[39munique_grid_indices \u001B[38;5;241m=\u001B[39m np\u001B[38;5;241m.\u001B[39munique(\u001B[38;5;28mself\u001B[39m\u001B[38;5;241m.\u001B[39mgrid_indices, axis\u001B[38;5;241m=\u001B[39m\u001B[38;5;241m0\u001B[39m)\n\u001B[0;32m     20\u001B[0m \u001B[38;5;66;03m# Initialize the sampled point cloud\u001B[39;00m\n\u001B[1;32m---> 21\u001B[0m \u001B[38;5;28mself\u001B[39m\u001B[38;5;241m.\u001B[39msampled_point_cloud \u001B[38;5;241m=\u001B[39m \u001B[38;5;28;43mself\u001B[39;49m\u001B[38;5;241;43m.\u001B[39;49m\u001B[43m__sampling\u001B[49m\u001B[43m(\u001B[49m\u001B[43m)\u001B[49m\n\u001B[0;32m     23\u001B[0m \u001B[38;5;66;03m# Save the sampled point cloud\u001B[39;00m\n\u001B[0;32m     24\u001B[0m \u001B[38;5;28;01mif\u001B[39;00m save_sample_path \u001B[38;5;129;01mis\u001B[39;00m \u001B[38;5;129;01mnot\u001B[39;00m \u001B[38;5;28;01mNone\u001B[39;00m:\n",
      "File \u001B[1;32m~\\PycharmProjects\\MatchingPointCloud\\dataset\\sampling.py:35\u001B[0m, in \u001B[0;36mGridSampling.__sampling\u001B[1;34m(self)\u001B[0m\n\u001B[0;32m     32\u001B[0m \u001B[38;5;28;01mfor\u001B[39;00m i \u001B[38;5;129;01min\u001B[39;00m \u001B[38;5;28mrange\u001B[39m(\u001B[38;5;28mself\u001B[39m\u001B[38;5;241m.\u001B[39munique_grid_indices\u001B[38;5;241m.\u001B[39mshape[\u001B[38;5;241m0\u001B[39m]):\n\u001B[0;32m     33\u001B[0m     \u001B[38;5;66;03m# Create a mask for the current grid cell\u001B[39;00m\n\u001B[0;32m     34\u001B[0m     mask \u001B[38;5;241m=\u001B[39m np\u001B[38;5;241m.\u001B[39mzeros(\u001B[38;5;28mself\u001B[39m\u001B[38;5;241m.\u001B[39mpoint_cloud\u001B[38;5;241m.\u001B[39mshape[\u001B[38;5;241m0\u001B[39m], dtype\u001B[38;5;241m=\u001B[39m\u001B[38;5;28mbool\u001B[39m)\n\u001B[1;32m---> 35\u001B[0m     mask[np\u001B[38;5;241m.\u001B[39mwhere(\u001B[43mnp\u001B[49m\u001B[38;5;241;43m.\u001B[39;49m\u001B[43mall\u001B[49m\u001B[43m(\u001B[49m\u001B[38;5;28;43mself\u001B[39;49m\u001B[38;5;241;43m.\u001B[39;49m\u001B[43munique_grid_indices\u001B[49m\u001B[43m[\u001B[49m\u001B[43mi\u001B[49m\u001B[43m]\u001B[49m\u001B[43m \u001B[49m\u001B[38;5;241;43m==\u001B[39;49m\u001B[43m \u001B[49m\u001B[38;5;28;43mself\u001B[39;49m\u001B[38;5;241;43m.\u001B[39;49m\u001B[43mgrid_indices\u001B[49m\u001B[43m,\u001B[49m\u001B[43m \u001B[49m\u001B[43maxis\u001B[49m\u001B[38;5;241;43m=\u001B[39;49m\u001B[38;5;241;43m1\u001B[39;49m\u001B[43m)\u001B[49m)] \u001B[38;5;241m=\u001B[39m \u001B[38;5;28;01mTrue\u001B[39;00m\n\u001B[0;32m     37\u001B[0m     \u001B[38;5;66;03m# Get the points in the current grid cell\u001B[39;00m\n\u001B[0;32m     38\u001B[0m     sampled_point_cloud\u001B[38;5;241m.\u001B[39mappend(\u001B[38;5;28mself\u001B[39m\u001B[38;5;241m.\u001B[39mpoint_cloud[mask])\n",
      "File \u001B[1;32m<__array_function__ internals>:200\u001B[0m, in \u001B[0;36mall\u001B[1;34m(*args, **kwargs)\u001B[0m\n",
      "File \u001B[1;32m~\\PycharmProjects\\MatchingPointCloud\\venv\\lib\\site-packages\\numpy\\core\\fromnumeric.py:2515\u001B[0m, in \u001B[0;36mall\u001B[1;34m(a, axis, out, keepdims, where)\u001B[0m\n\u001B[0;32m   2432\u001B[0m \u001B[38;5;129m@array_function_dispatch\u001B[39m(_all_dispatcher)\n\u001B[0;32m   2433\u001B[0m \u001B[38;5;28;01mdef\u001B[39;00m \u001B[38;5;21mall\u001B[39m(a, axis\u001B[38;5;241m=\u001B[39m\u001B[38;5;28;01mNone\u001B[39;00m, out\u001B[38;5;241m=\u001B[39m\u001B[38;5;28;01mNone\u001B[39;00m, keepdims\u001B[38;5;241m=\u001B[39mnp\u001B[38;5;241m.\u001B[39m_NoValue, \u001B[38;5;241m*\u001B[39m, where\u001B[38;5;241m=\u001B[39mnp\u001B[38;5;241m.\u001B[39m_NoValue):\n\u001B[0;32m   2434\u001B[0m \u001B[38;5;250m    \u001B[39m\u001B[38;5;124;03m\"\"\"\u001B[39;00m\n\u001B[0;32m   2435\u001B[0m \u001B[38;5;124;03m    Test whether all array elements along a given axis evaluate to True.\u001B[39;00m\n\u001B[0;32m   2436\u001B[0m \n\u001B[1;32m   (...)\u001B[0m\n\u001B[0;32m   2513\u001B[0m \n\u001B[0;32m   2514\u001B[0m \u001B[38;5;124;03m    \"\"\"\u001B[39;00m\n\u001B[1;32m-> 2515\u001B[0m     \u001B[38;5;28;01mreturn\u001B[39;00m \u001B[43m_wrapreduction\u001B[49m\u001B[43m(\u001B[49m\u001B[43ma\u001B[49m\u001B[43m,\u001B[49m\u001B[43m \u001B[49m\u001B[43mnp\u001B[49m\u001B[38;5;241;43m.\u001B[39;49m\u001B[43mlogical_and\u001B[49m\u001B[43m,\u001B[49m\u001B[43m \u001B[49m\u001B[38;5;124;43m'\u001B[39;49m\u001B[38;5;124;43mall\u001B[39;49m\u001B[38;5;124;43m'\u001B[39;49m\u001B[43m,\u001B[49m\u001B[43m \u001B[49m\u001B[43maxis\u001B[49m\u001B[43m,\u001B[49m\u001B[43m \u001B[49m\u001B[38;5;28;43;01mNone\u001B[39;49;00m\u001B[43m,\u001B[49m\u001B[43m \u001B[49m\u001B[43mout\u001B[49m\u001B[43m,\u001B[49m\n\u001B[0;32m   2516\u001B[0m \u001B[43m                          \u001B[49m\u001B[43mkeepdims\u001B[49m\u001B[38;5;241;43m=\u001B[39;49m\u001B[43mkeepdims\u001B[49m\u001B[43m,\u001B[49m\u001B[43m \u001B[49m\u001B[43mwhere\u001B[49m\u001B[38;5;241;43m=\u001B[39;49m\u001B[43mwhere\u001B[49m\u001B[43m)\u001B[49m\n",
      "File \u001B[1;32m~\\PycharmProjects\\MatchingPointCloud\\venv\\lib\\site-packages\\numpy\\core\\fromnumeric.py:86\u001B[0m, in \u001B[0;36m_wrapreduction\u001B[1;34m(obj, ufunc, method, axis, dtype, out, **kwargs)\u001B[0m\n\u001B[0;32m     83\u001B[0m         \u001B[38;5;28;01melse\u001B[39;00m:\n\u001B[0;32m     84\u001B[0m             \u001B[38;5;28;01mreturn\u001B[39;00m reduction(axis\u001B[38;5;241m=\u001B[39maxis, out\u001B[38;5;241m=\u001B[39mout, \u001B[38;5;241m*\u001B[39m\u001B[38;5;241m*\u001B[39mpasskwargs)\n\u001B[1;32m---> 86\u001B[0m \u001B[38;5;28;01mreturn\u001B[39;00m ufunc\u001B[38;5;241m.\u001B[39mreduce(obj, axis, dtype, out, \u001B[38;5;241m*\u001B[39m\u001B[38;5;241m*\u001B[39mpasskwargs)\n",
      "\u001B[1;31mKeyboardInterrupt\u001B[0m: "
     ]
    }
   ],
   "source": [
    "bone_sampling = GridSampling(point_cloud_path=\"dataset/geometry/bone.npy\", grid_size=np.array([0.25, 0.25, 0.25]),\n",
    "                                save_sample_path=\"dataset/geometry/bone_sample1.npy\",\n",
    "                                save_center_path=\"dataset/geometry/bone_center1.npy\")\n"
   ],
   "metadata": {
    "collapsed": false,
    "ExecuteTime": {
     "end_time": "2023-11-13T07:19:12.348412Z",
     "start_time": "2023-11-13T07:12:20.965001200Z"
    }
   },
   "id": "f733a6f8c993856a"
  },
  {
   "cell_type": "code",
   "execution_count": null,
   "outputs": [],
   "source": [
    "bone_sampling2 = GridSampling(point_cloud_path=\"dataset/geometry/bone_center1.npy\", grid_size=np.array([0.5,0.5,0.5]),\n",
    "                         save_sample_path=\"dataset/geometry/bone_sample2.npy\",\n",
    "                         save_center_path=\"dataset/geometry/bone_center2.npy\")"
   ],
   "metadata": {
    "collapsed": false,
    "ExecuteTime": {
     "end_time": "2023-11-13T07:19:12.360363700Z",
     "start_time": "2023-11-13T07:19:12.360363700Z"
    }
   },
   "id": "9efaa0e94cec9b22"
  },
  {
   "cell_type": "code",
   "execution_count": null,
   "outputs": [],
   "source": [
    "bone_sampling3 = GridSampling(point_cloud_path=\"dataset/geometry/bone_center2.npy\", grid_size=np.array([1,1,1]),\n",
    "                         save_sample_path=\"dataset/geometry/bone_sample3.npy\",\n",
    "                         save_center_path=\"dataset/geometry/bone_center3.npy\")"
   ],
   "metadata": {
    "collapsed": false,
    "ExecuteTime": {
     "start_time": "2023-11-13T07:19:12.360363700Z"
    }
   },
   "id": "9aa3615049215e2f"
  },
  {
   "cell_type": "markdown",
   "source": [
    "## 1.3 Create Kernel Point"
   ],
   "metadata": {
    "collapsed": false
   },
   "id": "a1f87bdceee30bcd"
  },
  {
   "cell_type": "code",
   "execution_count": null,
   "outputs": [],
   "source": [
    "from dataset.kernel import KernelPoint\n",
    "\n",
    "kernel_point = KernelPoint(kernel_size=64, radius=0.125)\n"
   ],
   "metadata": {
    "collapsed": false
   },
   "id": "591076ba72c71371"
  }
 ],
 "metadata": {
  "kernelspec": {
   "display_name": "Python 3",
   "language": "python",
   "name": "python3"
  },
  "language_info": {
   "codemirror_mode": {
    "name": "ipython",
    "version": 2
   },
   "file_extension": ".py",
   "mimetype": "text/x-python",
   "name": "python",
   "nbconvert_exporter": "python",
   "pygments_lexer": "ipython2",
   "version": "2.7.6"
  }
 },
 "nbformat": 4,
 "nbformat_minor": 5
}
