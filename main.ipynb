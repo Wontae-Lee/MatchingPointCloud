{
 "cells": [
  {
   "cell_type": "code",
   "execution_count": 1,
   "outputs": [],
   "source": [
    "import numpy as np"
   ],
   "metadata": {
    "collapsed": false,
    "ExecuteTime": {
     "end_time": "2023-11-24T07:24:39.269057600Z",
     "start_time": "2023-11-24T07:24:39.112796500Z"
    }
   },
   "id": "fc871984fa42a73"
  },
  {
   "cell_type": "code",
   "execution_count": 3,
   "outputs": [],
   "source": [
    "implant_indices = np.load('./dataset/.implant_indices0.npy')\n",
    "bone_indices = np.load('./dataset/.bone_indices0.npy')"
   ],
   "metadata": {
    "collapsed": false,
    "ExecuteTime": {
     "end_time": "2023-11-24T07:25:44.044069700Z",
     "start_time": "2023-11-24T07:25:44.025141900Z"
    }
   },
   "id": "6f9dca0cd104ccf0"
  },
  {
   "cell_type": "code",
   "execution_count": 5,
   "outputs": [
    {
     "name": "stdout",
     "output_type": "stream",
     "text": [
      "Jupyter environment detected. Enabling Open3D WebVisualizer.\n",
      "[Open3D INFO] WebRTC GUI backend enabled.\n",
      "[Open3D INFO] WebRTCWindowSystem: HTTP handshake server disabled.\n"
     ]
    }
   ],
   "source": [
    "from dataset.utils import visualize_point_cloud\n",
    "\n",
    "raw = np.load('./dataset/geometry/raw.npy')\n",
    "visualize_point_cloud(raw)"
   ],
   "metadata": {
    "collapsed": false,
    "ExecuteTime": {
     "end_time": "2023-11-24T07:27:26.198108200Z",
     "start_time": "2023-11-24T07:27:11.253741800Z"
    }
   },
   "id": "46f34cac72855f4a"
  },
  {
   "cell_type": "code",
   "execution_count": 6,
   "outputs": [],
   "source": [
    "implant = np.load('./dataset/geometry/implant.npy')\n",
    "bone = np.load('./dataset/geometry/bone.npy')\n"
   ],
   "metadata": {
    "collapsed": false,
    "ExecuteTime": {
     "end_time": "2023-11-24T07:28:08.299719900Z",
     "start_time": "2023-11-24T07:28:08.236246300Z"
    }
   },
   "id": "1fe58cf152983946"
  },
  {
   "cell_type": "code",
   "execution_count": 8,
   "outputs": [],
   "source": [
    "implant = implant[implant_indices]\n",
    "bone = bone[bone_indices]"
   ],
   "metadata": {
    "collapsed": false,
    "ExecuteTime": {
     "end_time": "2023-11-24T07:28:53.037008800Z",
     "start_time": "2023-11-24T07:28:53.005410800Z"
    }
   },
   "id": "9361cd9636929a9"
  },
  {
   "cell_type": "code",
   "execution_count": 9,
   "outputs": [],
   "source": [
    "all_points = np.concatenate([implant, bone], axis=0)"
   ],
   "metadata": {
    "collapsed": false,
    "ExecuteTime": {
     "end_time": "2023-11-24T07:29:04.189073Z",
     "start_time": "2023-11-24T07:29:04.117577500Z"
    }
   },
   "id": "820a85724c2ae6be"
  },
  {
   "cell_type": "code",
   "execution_count": 11,
   "outputs": [
    {
     "data": {
      "text/plain": "PointCloud with 454 points."
     },
     "execution_count": 11,
     "metadata": {},
     "output_type": "execute_result"
    }
   ],
   "source": [
    "import open3d as o3d\n",
    "pcd = o3d.geometry.PointCloud()\n",
    "pcd.points = o3d.utility.Vector3dVector(all_points)\n",
    "pcd.paint_uniform_color([1, 0.706, 0])"
   ],
   "metadata": {
    "collapsed": false,
    "ExecuteTime": {
     "end_time": "2023-11-24T07:30:27.866486400Z",
     "start_time": "2023-11-24T07:30:27.803661100Z"
    }
   },
   "id": "13b24eac3fee2650"
  },
  {
   "cell_type": "code",
   "execution_count": 12,
   "outputs": [
    {
     "data": {
      "text/plain": "PointCloud with 200000 points."
     },
     "execution_count": 12,
     "metadata": {},
     "output_type": "execute_result"
    }
   ],
   "source": [
    "pcd_raw = o3d.geometry.PointCloud()\n",
    "pcd_raw.points = o3d.utility.Vector3dVector(raw)\n",
    "pcd_raw.paint_uniform_color([0, 0.651, 0.929])"
   ],
   "metadata": {
    "collapsed": false,
    "ExecuteTime": {
     "end_time": "2023-11-24T07:30:52.399028600Z",
     "start_time": "2023-11-24T07:30:52.288550800Z"
    }
   },
   "id": "ce59344dda30e32d"
  },
  {
   "cell_type": "code",
   "execution_count": 13,
   "outputs": [],
   "source": [
    "o3d.visualization.draw_geometries([pcd, pcd_raw])"
   ],
   "metadata": {
    "collapsed": false,
    "ExecuteTime": {
     "end_time": "2023-11-24T07:31:08.573812100Z",
     "start_time": "2023-11-24T07:30:55.503272600Z"
    }
   },
   "id": "6187937101bb0e28"
  },
  {
   "cell_type": "code",
   "execution_count": null,
   "outputs": [],
   "source": [],
   "metadata": {
    "collapsed": false
   },
   "id": "5ef04fca0ef7526b"
  }
 ],
 "metadata": {
  "kernelspec": {
   "display_name": "Python 3",
   "language": "python",
   "name": "python3"
  },
  "language_info": {
   "codemirror_mode": {
    "name": "ipython",
    "version": 2
   },
   "file_extension": ".py",
   "mimetype": "text/x-python",
   "name": "python",
   "nbconvert_exporter": "python",
   "pygments_lexer": "ipython2",
   "version": "2.7.6"
  }
 },
 "nbformat": 4,
 "nbformat_minor": 5
}
