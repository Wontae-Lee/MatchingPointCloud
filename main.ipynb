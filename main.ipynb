{
 "cells": [
  {
   "cell_type": "code",
   "execution_count": 1,
   "id": "initial_id",
   "metadata": {
    "collapsed": true,
    "ExecuteTime": {
     "end_time": "2023-12-01T11:19:45.368988600Z",
     "start_time": "2023-12-01T11:19:44.096198200Z"
    }
   },
   "outputs": [
    {
     "name": "stdout",
     "output_type": "stream",
     "text": [
      "Jupyter environment detected. Enabling Open3D WebVisualizer.\n",
      "[Open3D INFO] WebRTC GUI backend enabled.\n",
      "[Open3D INFO] WebRTCWindowSystem: HTTP handshake server disabled.\n"
     ]
    }
   ],
   "source": [
    "import numpy as np\n",
    "import open3d as o3d\n"
   ]
  },
  {
   "cell_type": "code",
   "execution_count": 2,
   "outputs": [],
   "source": [
    "def visualize_point_cloud(points: np.array, color: np.array = None):\n",
    "    pcd = o3d.geometry.PointCloud()\n",
    "    pcd.points = o3d.utility.Vector3dVector(points)\n",
    "    if color is not None:\n",
    "        pcd.paint_uniform_color(color)\n",
    "    o3d.visualization.draw_geometries([pcd])"
   ],
   "metadata": {
    "collapsed": false,
    "ExecuteTime": {
     "end_time": "2023-12-01T11:19:45.431625700Z",
     "start_time": "2023-12-01T11:19:45.368988600Z"
    }
   },
   "id": "11fbf9ec5c00f1da"
  },
  {
   "cell_type": "markdown",
   "source": [
    "# 1. Data\n",
    "## 1.1 Generate point cloud from 3D model"
   ],
   "metadata": {
    "collapsed": false
   },
   "id": "7e83110f83ce2cd7"
  },
  {
   "cell_type": "code",
   "execution_count": 3,
   "outputs": [],
   "source": [
    "from dataset.data import Data\n",
    "\n",
    "data = Data(raw_path=\"./dataset/geometry/raw.stl\",\n",
    "            number_of_points=200000,\n",
    "            splicing_height=0.04,\n",
    "            unit=\"mm\",\n",
    "            save_raw=\"./dataset/geometry/raw.npy\",\n",
    "            save_implant=\"./dataset/geometry/implant.npy\",\n",
    "            save_bone=\"./dataset/geometry/bone.npy\")"
   ],
   "metadata": {
    "collapsed": false,
    "ExecuteTime": {
     "end_time": "2023-12-01T11:19:45.494811300Z",
     "start_time": "2023-12-01T11:19:45.384626500Z"
    }
   },
   "id": "cca6c1e95b3abffe"
  },
  {
   "cell_type": "markdown",
   "source": [
    "## 1.2 Create Kernel Point"
   ],
   "metadata": {
    "collapsed": false
   },
   "id": "a1f87bdceee30bcd"
  }
 ],
 "metadata": {
  "kernelspec": {
   "display_name": "Python 3",
   "language": "python",
   "name": "python3"
  },
  "language_info": {
   "codemirror_mode": {
    "name": "ipython",
    "version": 2
   },
   "file_extension": ".py",
   "mimetype": "text/x-python",
   "name": "python",
   "nbconvert_exporter": "python",
   "pygments_lexer": "ipython2",
   "version": "2.7.6"
  }
 },
 "nbformat": 4,
 "nbformat_minor": 5
}
