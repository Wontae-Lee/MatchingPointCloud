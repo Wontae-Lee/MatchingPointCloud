{
 "cells": [
  {
   "cell_type": "code",
   "execution_count": 1,
   "id": "initial_id",
   "metadata": {
    "collapsed": true,
    "ExecuteTime": {
     "end_time": "2023-11-24T07:11:24.977264900Z",
     "start_time": "2023-11-24T07:11:23.205080700Z"
    }
   },
   "outputs": [
    {
     "name": "stdout",
     "output_type": "stream",
     "text": [
      "Jupyter environment detected. Enabling Open3D WebVisualizer.\n",
      "[Open3D INFO] WebRTC GUI backend enabled.\n",
      "[Open3D INFO] WebRTCWindowSystem: HTTP handshake server disabled.\n"
     ]
    }
   ],
   "source": [
    "import numpy as np\n",
    "import open3d as o3d\n"
   ]
  },
  {
   "cell_type": "code",
   "execution_count": 2,
   "outputs": [],
   "source": [
    "def visualize_point_cloud(points: np.array, color: np.array = None):\n",
    "    pcd = o3d.geometry.PointCloud()\n",
    "    pcd.points = o3d.utility.Vector3dVector(points)\n",
    "    if color is not None:\n",
    "        pcd.paint_uniform_color(color)\n",
    "    o3d.visualization.draw_geometries([pcd])"
   ],
   "metadata": {
    "collapsed": false,
    "ExecuteTime": {
     "end_time": "2023-11-24T07:11:24.977264900Z",
     "start_time": "2023-11-24T07:11:24.961640Z"
    }
   },
   "id": "11fbf9ec5c00f1da"
  },
  {
   "cell_type": "markdown",
   "source": [
    "# 1. Data\n",
    "## 1.1 Generate point cloud from 3D model"
   ],
   "metadata": {
    "collapsed": false
   },
   "id": "7e83110f83ce2cd7"
  },
  {
   "cell_type": "code",
   "execution_count": 3,
   "outputs": [],
   "source": [
    "from dataset.data import Data\n",
    "\n",
    "data = Data(raw_path=\"./dataset/geometry/raw.stl\",\n",
    "            number_of_points=200000,\n",
    "            splicing_height=0.04,\n",
    "            unit=\"mm\",\n",
    "            save_raw=\"./dataset/geometry/raw.npy\",\n",
    "            save_implant=\"./dataset/geometry/implant.npy\",\n",
    "            save_bone=\"./dataset/geometry/bone.npy\")"
   ],
   "metadata": {
    "collapsed": false,
    "ExecuteTime": {
     "end_time": "2023-11-24T07:11:25.102271Z",
     "start_time": "2023-11-24T07:11:24.977264900Z"
    }
   },
   "id": "cca6c1e95b3abffe"
  },
  {
   "cell_type": "markdown",
   "source": [
    "## 1.2 Create Kernel Point"
   ],
   "metadata": {
    "collapsed": false
   },
   "id": "a1f87bdceee30bcd"
  },
  {
   "cell_type": "code",
   "execution_count": 11,
   "outputs": [],
   "source": [
    "from dataset.kernel_point_generator import KernelPointGenerator\n",
    "\n",
    "radi = 2.0\n",
    "kernel_point1 = KernelPointGenerator(kernel_size=64, radius=radi)\n",
    "kernel_point1.save_kernel_point(\"dataset/kernel_points/kernel_point1.npy\")\n",
    "kernel_point2 = KernelPointGenerator(kernel_size=128, radius=radi * 2)\n",
    "kernel_point2.save_kernel_point(\"dataset/kernel_points/kernel_point2.npy\")\n",
    "kernel_point3 = KernelPointGenerator(kernel_size=256, radius=radi * 4)\n",
    "kernel_point3.save_kernel_point(\"dataset/kernel_points/kernel_point3.npy\")"
   ],
   "metadata": {
    "collapsed": false,
    "ExecuteTime": {
     "end_time": "2023-11-24T07:11:36.843452600Z",
     "start_time": "2023-11-24T07:11:28.557374200Z"
    }
   },
   "id": "591076ba72c71371"
  }
 ],
 "metadata": {
  "kernelspec": {
   "display_name": "Python 3",
   "language": "python",
   "name": "python3"
  },
  "language_info": {
   "codemirror_mode": {
    "name": "ipython",
    "version": 2
   },
   "file_extension": ".py",
   "mimetype": "text/x-python",
   "name": "python",
   "nbconvert_exporter": "python",
   "pygments_lexer": "ipython2",
   "version": "2.7.6"
  }
 },
 "nbformat": 4,
 "nbformat_minor": 5
}
