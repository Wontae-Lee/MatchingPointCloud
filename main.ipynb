{
 "cells": [
  {
   "cell_type": "code",
   "execution_count": 1,
   "outputs": [
    {
     "name": "stdout",
     "output_type": "stream",
     "text": [
      "Jupyter environment detected. Enabling Open3D WebVisualizer.\n",
      "[Open3D INFO] WebRTC GUI backend enabled.\n",
      "[Open3D INFO] WebRTCWindowSystem: HTTP handshake server disabled.\n"
     ]
    }
   ],
   "source": [
    "import numpy as np"
   ],
   "metadata": {
    "collapsed": false,
    "ExecuteTime": {
     "end_time": "2023-11-22T06:22:17.121036600Z",
     "start_time": "2023-11-22T06:22:15.361427400Z"
    }
   },
   "id": "fc871984fa42a73"
  },
  {
   "cell_type": "code",
   "execution_count": 2,
   "outputs": [],
   "source": [
    "implant_sample3 = np.load('./dataset/geometry/implant_sample3.npy', allow_pickle=True)\n",
    "implant_center2 = np.load('./dataset/geometry/implant_center2.npy', allow_pickle=True)\n",
    "implant_sample2 = np.load('./dataset/geometry/implant_sample2.npy', allow_pickle=True)\n",
    "implant_center1 = np.load('./dataset/geometry/implant_center1.npy', allow_pickle=True)\n",
    "implant_sample1 = np.load('./dataset/geometry/implant_sample1.npy', allow_pickle=True)\n",
    "implant = np.load('./dataset/geometry/implant.npy', allow_pickle=True)"
   ],
   "metadata": {
    "collapsed": false,
    "ExecuteTime": {
     "end_time": "2023-11-22T06:22:17.184417400Z",
     "start_time": "2023-11-22T06:22:17.131629300Z"
    }
   },
   "id": "fe4d340398969b64"
  },
  {
   "cell_type": "code",
   "execution_count": 3,
   "outputs": [],
   "source": [
    "bone_sample3 = np.load('./dataset/geometry/bone_sample3.npy', allow_pickle=True)\n",
    "bone_center2 = np.load('./dataset/geometry/bone_center2.npy', allow_pickle=True)\n",
    "bone_sample2 = np.load('./dataset/geometry/bone_sample2.npy', allow_pickle=True)\n",
    "bone_center1 = np.load('./dataset/geometry/bone_center1.npy', allow_pickle=True)\n",
    "bone_sample1 = np.load('./dataset/geometry/bone_sample1.npy', allow_pickle=True)\n",
    "bone = np.load('./dataset/geometry/bone.npy', allow_pickle=True)"
   ],
   "metadata": {
    "collapsed": false,
    "ExecuteTime": {
     "end_time": "2023-11-22T06:22:17.211603800Z",
     "start_time": "2023-11-22T06:22:17.159872400Z"
    }
   },
   "id": "fd3bd2705e689578"
  }
 ],
 "metadata": {
  "kernelspec": {
   "display_name": "Python 3",
   "language": "python",
   "name": "python3"
  },
  "language_info": {
   "codemirror_mode": {
    "name": "ipython",
    "version": 2
   },
   "file_extension": ".py",
   "mimetype": "text/x-python",
   "name": "python",
   "nbconvert_exporter": "python",
   "pygments_lexer": "ipython2",
   "version": "2.7.6"
  }
 },
 "nbformat": 4,
 "nbformat_minor": 5
}
