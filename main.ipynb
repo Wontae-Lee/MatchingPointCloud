{
 "cells": [
  {
   "cell_type": "code",
   "execution_count": 1,
   "id": "initial_id",
   "metadata": {
    "collapsed": true,
    "ExecuteTime": {
     "end_time": "2023-11-09T04:20:27.605255500Z",
     "start_time": "2023-11-09T04:20:17.669428900Z"
    }
   },
   "outputs": [
    {
     "name": "stdout",
     "output_type": "stream",
     "text": [
      "Jupyter environment detected. Enabling Open3D WebVisualizer.\n",
      "[Open3D INFO] WebRTC GUI backend enabled.\n",
      "[Open3D INFO] WebRTCWindowSystem: HTTP handshake server disabled.\n"
     ]
    }
   ],
   "source": [
    "import torch\n",
    "import numpy as np\n",
    "import open3d as o3d"
   ]
  },
  {
   "cell_type": "code",
   "execution_count": 17,
   "outputs": [],
   "source": [
    "sampled_points = np.load('./dataset/geometry/grid_sampled.npy',allow_pickle=True)"
   ],
   "metadata": {
    "collapsed": false,
    "ExecuteTime": {
     "end_time": "2023-11-09T04:27:06.715934Z",
     "start_time": "2023-11-09T04:27:06.637240800Z"
    }
   },
   "id": "20c39c44be52e613"
  },
  {
   "cell_type": "code",
   "execution_count": 19,
   "outputs": [],
   "source": [
    "kernel_points = np.load('./dataset/kernel_points/kernel_points.npy',allow_pickle=True)"
   ],
   "metadata": {
    "collapsed": false,
    "ExecuteTime": {
     "end_time": "2023-11-09T04:27:34.621763500Z",
     "start_time": "2023-11-09T04:27:34.558808600Z"
    }
   },
   "id": "7c66e469b52813dd"
  },
  {
   "cell_type": "code",
   "execution_count": 30,
   "outputs": [
    {
     "name": "stdout",
     "output_type": "stream",
     "text": [
      "(644, 3)\n"
     ]
    }
   ],
   "source": [
    "test_particle = sampled_points[0]"
   ],
   "metadata": {
    "collapsed": false,
    "ExecuteTime": {
     "end_time": "2023-11-09T04:51:33.746181600Z",
     "start_time": "2023-11-09T04:51:33.714481700Z"
    }
   },
   "id": "e42c7f0439e95501"
  },
  {
   "cell_type": "code",
   "execution_count": 31,
   "outputs": [],
   "source": [
    "test_kernel = kernel_points[0]"
   ],
   "metadata": {
    "collapsed": false,
    "ExecuteTime": {
     "end_time": "2023-11-09T04:51:34.091457300Z",
     "start_time": "2023-11-09T04:51:34.075830900Z"
    }
   },
   "id": "dd5487c38ab7fd08"
  },
  {
   "cell_type": "code",
   "execution_count": 33,
   "outputs": [],
   "source": [
    "test_particle = torch.from_numpy(test_particle)"
   ],
   "metadata": {
    "collapsed": false,
    "ExecuteTime": {
     "end_time": "2023-11-09T04:51:55.445100700Z",
     "start_time": "2023-11-09T04:51:55.398054600Z"
    }
   },
   "id": "a1a18b2358931c13"
  },
  {
   "cell_type": "code",
   "execution_count": 34,
   "outputs": [],
   "source": [
    "test_particle =test_particle.to('cuda')"
   ],
   "metadata": {
    "collapsed": false,
    "ExecuteTime": {
     "end_time": "2023-11-09T04:52:40.949346600Z",
     "start_time": "2023-11-09T04:52:40.614729100Z"
    }
   },
   "id": "d6c3dffe4e41353"
  },
  {
   "cell_type": "code",
   "execution_count": 35,
   "outputs": [],
   "source": [
    "test_kernel = torch.from_numpy(test_kernel).to('cuda')"
   ],
   "metadata": {
    "collapsed": false,
    "ExecuteTime": {
     "end_time": "2023-11-09T04:53:00.506883200Z",
     "start_time": "2023-11-09T04:53:00.444181600Z"
    }
   },
   "id": "f1f89721c502c527"
  },
  {
   "cell_type": "code",
   "execution_count": 36,
   "outputs": [],
   "source": [
    "test_particle = test_particle.unsqueeze(0)\n",
    "test_kernel = test_kernel.unsqueeze(0).permute(1,0,2)"
   ],
   "metadata": {
    "collapsed": false,
    "ExecuteTime": {
     "end_time": "2023-11-09T05:00:08.073718500Z",
     "start_time": "2023-11-09T05:00:08.058074400Z"
    }
   },
   "id": "19678878ae22f907"
  },
  {
   "cell_type": "code",
   "execution_count": null,
   "outputs": [],
   "source": [],
   "metadata": {
    "collapsed": false
   },
   "id": "2b065ef071999716"
  },
  {
   "cell_type": "code",
   "execution_count": 39,
   "outputs": [],
   "source": [
    "differences = test_particle - test_kernel"
   ],
   "metadata": {
    "collapsed": false,
    "ExecuteTime": {
     "end_time": "2023-11-09T05:00:36.451945400Z",
     "start_time": "2023-11-09T05:00:36.373284700Z"
    }
   },
   "id": "5844b764125fee66"
  },
  {
   "cell_type": "code",
   "execution_count": 51,
   "outputs": [],
   "source": [
    "squared_distances = torch.sum(differences**2, dim=2)\n",
    "\n",
    "# Compute distances\n",
    "distances = torch.sqrt(squared_distances)"
   ],
   "metadata": {
    "collapsed": false,
    "ExecuteTime": {
     "end_time": "2023-11-09T05:12:03.024407200Z",
     "start_time": "2023-11-09T05:12:02.992686100Z"
    }
   },
   "id": "aa1d18737a673d86"
  },
  {
   "cell_type": "code",
   "execution_count": 108,
   "outputs": [],
   "source": [
    "h=0.1\n"
   ],
   "metadata": {
    "collapsed": false,
    "ExecuteTime": {
     "end_time": "2023-11-09T05:54:07.052582200Z",
     "start_time": "2023-11-09T05:54:07.013621400Z"
    }
   },
   "id": "e9e4be69db28766b"
  },
  {
   "cell_type": "code",
   "execution_count": 109,
   "outputs": [],
   "source": [
    "sigma = 1/ (torch.pi**(3/2) * h**3)\n"
   ],
   "metadata": {
    "collapsed": false,
    "ExecuteTime": {
     "end_time": "2023-11-09T05:54:07.874095900Z",
     "start_time": "2023-11-09T05:54:07.842181Z"
    }
   },
   "id": "bcb33411b722593d"
  },
  {
   "cell_type": "code",
   "execution_count": 110,
   "outputs": [
    {
     "data": {
      "text/plain": "tensor([[5.5702, 5.0510, 5.5771,  ..., 5.6134, 5.7215, 5.6155],\n        [0.9641, 0.9699, 0.9641,  ..., 0.9623, 0.9617, 0.9624],\n        [1.0789, 1.0888, 1.0826,  ..., 1.1153, 1.1072, 1.1141],\n        ...,\n        [1.1956, 1.2084, 1.1942,  ..., 1.1793, 1.1802, 1.1798],\n        [0.8560, 0.8471, 0.8565,  ..., 0.8625, 0.8629, 0.8623],\n        [0.9013, 0.8916, 0.9033,  ..., 0.9230, 0.9209, 0.9223]],\n       device='cuda:0', dtype=torch.float64)"
     },
     "execution_count": 110,
     "metadata": {},
     "output_type": "execute_result"
    }
   ],
   "source": [
    "q = h/distances"
   ],
   "metadata": {
    "collapsed": false,
    "ExecuteTime": {
     "end_time": "2023-11-09T05:54:08.612919200Z",
     "start_time": "2023-11-09T05:54:08.533623800Z"
    }
   },
   "id": "80c8a26a663e090"
  },
  {
   "cell_type": "code",
   "execution_count": 111,
   "outputs": [],
   "source": [
    "e = torch.exp(-q**2)"
   ],
   "metadata": {
    "collapsed": false,
    "ExecuteTime": {
     "end_time": "2023-11-09T05:54:09.608586Z",
     "start_time": "2023-11-09T05:54:09.592938800Z"
    }
   },
   "id": "f2e9ae42f7e128a2"
  },
  {
   "cell_type": "code",
   "execution_count": 112,
   "outputs": [],
   "source": [
    "result = sigma * e"
   ],
   "metadata": {
    "collapsed": false,
    "ExecuteTime": {
     "end_time": "2023-11-09T05:54:10.369594200Z",
     "start_time": "2023-11-09T05:54:10.337640300Z"
    }
   },
   "id": "fe4e1b3d6b5d55ff"
  },
  {
   "cell_type": "code",
   "execution_count": 113,
   "outputs": [
    {
     "data": {
      "text/plain": "tensor([[6.0141e-12, 1.4938e-09, 5.5711e-12,  ..., 3.7102e-12, 1.0900e-12,\n         3.6230e-12],\n        [7.0892e+01, 7.0106e+01, 7.0898e+01,  ..., 7.1142e+01, 7.1216e+01,\n         7.1132e+01],\n        [5.6074e+01, 5.4887e+01, 5.5626e+01,  ..., 5.1766e+01, 5.2705e+01,\n         5.1903e+01],\n        ...,\n        [4.3004e+01, 4.1697e+01, 4.3145e+01,  ..., 4.4701e+01, 4.4607e+01,\n         4.4643e+01],\n        [8.6313e+01, 8.7626e+01, 8.6231e+01,  ..., 8.5356e+01, 8.5295e+01,\n         8.5385e+01],\n        [7.9698e+01, 8.1101e+01, 7.9411e+01,  ..., 7.6609e+01, 7.6901e+01,\n         7.6708e+01]], device='cuda:0', dtype=torch.float64)"
     },
     "execution_count": 113,
     "metadata": {},
     "output_type": "execute_result"
    }
   ],
   "source": [
    "result"
   ],
   "metadata": {
    "collapsed": false,
    "ExecuteTime": {
     "end_time": "2023-11-09T05:54:11.062605300Z",
     "start_time": "2023-11-09T05:54:10.999255800Z"
    }
   },
   "id": "3bf297a0f079d0c6"
  },
  {
   "cell_type": "code",
   "execution_count": null,
   "outputs": [],
   "source": [],
   "metadata": {
    "collapsed": false
   },
   "id": "5834f31f01fa19c5"
  }
 ],
 "metadata": {
  "kernelspec": {
   "display_name": "Python 3",
   "language": "python",
   "name": "python3"
  },
  "language_info": {
   "codemirror_mode": {
    "name": "ipython",
    "version": 2
   },
   "file_extension": ".py",
   "mimetype": "text/x-python",
   "name": "python",
   "nbconvert_exporter": "python",
   "pygments_lexer": "ipython2",
   "version": "2.7.6"
  }
 },
 "nbformat": 4,
 "nbformat_minor": 5
}
