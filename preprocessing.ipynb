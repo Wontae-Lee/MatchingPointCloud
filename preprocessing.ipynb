{
 "cells": [
  {
   "cell_type": "code",
   "execution_count": 1,
   "id": "initial_id",
   "metadata": {
    "collapsed": true,
    "ExecuteTime": {
     "end_time": "2023-11-14T11:40:42.133682300Z",
     "start_time": "2023-11-14T11:40:41.753571400Z"
    }
   },
   "outputs": [
    {
     "name": "stdout",
     "output_type": "stream",
     "text": [
      "Jupyter environment detected. Enabling Open3D WebVisualizer.\n",
      "[Open3D INFO] WebRTC GUI backend enabled.\n",
      "[Open3D INFO] WebRTCWindowSystem: HTTP handshake server disabled.\n"
     ]
    }
   ],
   "source": [
    "import numpy as np\n",
    "import open3d as o3d\n"
   ]
  },
  {
   "cell_type": "code",
   "execution_count": 2,
   "outputs": [],
   "source": [
    "def visualize_pointcloud(pointcloud):\n",
    "    pcd = o3d.geometry.PointCloud()\n",
    "    pcd.points = o3d.utility.Vector3dVector(pointcloud)\n",
    "    o3d.visualization.draw_geometries([pcd])"
   ],
   "metadata": {
    "collapsed": false,
    "ExecuteTime": {
     "end_time": "2023-11-14T11:40:42.180559900Z",
     "start_time": "2023-11-14T11:40:42.133682300Z"
    }
   },
   "id": "11fbf9ec5c00f1da"
  },
  {
   "cell_type": "markdown",
   "source": [
    "# 1. Data\n",
    "## 1.1 Generate point cloud from 3D model"
   ],
   "metadata": {
    "collapsed": false
   },
   "id": "7e83110f83ce2cd7"
  },
  {
   "cell_type": "code",
   "execution_count": 3,
   "outputs": [],
   "source": [
    "from dataset.data import Data\n",
    "\n",
    "data = Data(raw_path=\"./dataset/geometry/raw.stl\",\n",
    "            number_of_points=100000,\n",
    "            splicing_height=0.04,\n",
    "            unit=\"mm\",\n",
    "            save_raw=\"./dataset/geometry/raw.npy\",\n",
    "            save_implant=\"./dataset/geometry/implant.npy\",\n",
    "            save_bone=\"./dataset/geometry/bone.npy\")"
   ],
   "metadata": {
    "collapsed": false,
    "ExecuteTime": {
     "end_time": "2023-11-14T11:40:42.180559900Z",
     "start_time": "2023-11-14T11:40:42.149312800Z"
    }
   },
   "id": "cca6c1e95b3abffe"
  },
  {
   "cell_type": "markdown",
   "source": [
    "## 1.2 Subsampling point cloud\n",
    "### 1.2.1 implant"
   ],
   "metadata": {
    "collapsed": false
   },
   "id": "9690944e5974f6c9"
  },
  {
   "cell_type": "code",
   "execution_count": 4,
   "outputs": [],
   "source": [
    "grid = np.array([4.0, 4.0, 4.0])"
   ],
   "metadata": {
    "collapsed": false,
    "ExecuteTime": {
     "end_time": "2023-11-14T11:40:42.196183400Z",
     "start_time": "2023-11-14T11:40:42.180559900Z"
    }
   },
   "id": "9f523f1ffb7fb0e1"
  },
  {
   "cell_type": "code",
   "execution_count": 5,
   "outputs": [],
   "source": [
    "from dataset.sampling import GridSampling\n",
    "\n",
    "implant_sampling = GridSampling(point_cloud_path=\"dataset/geometry/implant.npy\", grid_size=grid,\n",
    "                                save_sample_path=\"dataset/geometry/implant_sample1.npy\",\n",
    "                                save_center_path=\"dataset/geometry/implant_center1.npy\")\n"
   ],
   "metadata": {
    "collapsed": false,
    "ExecuteTime": {
     "end_time": "2023-11-14T11:40:42.258675600Z",
     "start_time": "2023-11-14T11:40:42.196183400Z"
    }
   },
   "id": "a0290780f52351c4"
  },
  {
   "cell_type": "code",
   "execution_count": 6,
   "outputs": [],
   "source": [
    "implant_sampling2 = GridSampling(point_cloud_path=\"dataset/geometry/implant_center1.npy\", grid_size=grid * 2,\n",
    "                                 save_sample_path=\"dataset/geometry/implant_sample2.npy\",\n",
    "                                 save_center_path=\"dataset/geometry/implant_center2.npy\")\n"
   ],
   "metadata": {
    "collapsed": false,
    "ExecuteTime": {
     "end_time": "2023-11-14T11:40:42.274300400Z",
     "start_time": "2023-11-14T11:40:42.258675600Z"
    }
   },
   "id": "77c7f1c8de745131"
  },
  {
   "cell_type": "code",
   "execution_count": 7,
   "outputs": [],
   "source": [
    "implant_sampling3 = GridSampling(point_cloud_path=\"dataset/geometry/implant_center2.npy\", grid_size=grid * 4,\n",
    "                                 save_sample_path=\"dataset/geometry/implant_sample3.npy\",\n",
    "                                 save_center_path=\"dataset/geometry/implant_center3.npy\")\n"
   ],
   "metadata": {
    "collapsed": false,
    "ExecuteTime": {
     "end_time": "2023-11-14T11:40:42.289922600Z",
     "start_time": "2023-11-14T11:40:42.274300400Z"
    }
   },
   "id": "f6a3a4d37ce5a69e"
  },
  {
   "cell_type": "markdown",
   "source": [
    "### 1.2.2 bone"
   ],
   "metadata": {
    "collapsed": false
   },
   "id": "35362f063aa4afb2"
  },
  {
   "cell_type": "code",
   "execution_count": 8,
   "outputs": [],
   "source": [
    "bone_sampling = GridSampling(point_cloud_path=\"dataset/geometry/bone.npy\", grid_size=grid,\n",
    "                             save_sample_path=\"dataset/geometry/bone_sample1.npy\",\n",
    "                             save_center_path=\"dataset/geometry/bone_center1.npy\")\n"
   ],
   "metadata": {
    "collapsed": false,
    "ExecuteTime": {
     "end_time": "2023-11-14T11:40:42.666290900Z",
     "start_time": "2023-11-14T11:40:42.289922600Z"
    }
   },
   "id": "f733a6f8c993856a"
  },
  {
   "cell_type": "code",
   "execution_count": 9,
   "outputs": [],
   "source": [
    "bone_sampling2 = GridSampling(point_cloud_path=\"dataset/geometry/bone_center1.npy\", grid_size=grid * 2,\n",
    "                              save_sample_path=\"dataset/geometry/bone_sample2.npy\",\n",
    "                              save_center_path=\"dataset/geometry/bone_center2.npy\")"
   ],
   "metadata": {
    "collapsed": false,
    "ExecuteTime": {
     "end_time": "2023-11-14T11:40:42.681914900Z",
     "start_time": "2023-11-14T11:40:42.666290900Z"
    }
   },
   "id": "9efaa0e94cec9b22"
  },
  {
   "cell_type": "code",
   "execution_count": 10,
   "outputs": [],
   "source": [
    "bone_sampling3 = GridSampling(point_cloud_path=\"dataset/geometry/bone_center2.npy\", grid_size=grid * 4,\n",
    "                              save_sample_path=\"dataset/geometry/bone_sample3.npy\",\n",
    "                              save_center_path=\"dataset/geometry/bone_center3.npy\")"
   ],
   "metadata": {
    "collapsed": false,
    "ExecuteTime": {
     "end_time": "2023-11-14T11:40:42.697537400Z",
     "start_time": "2023-11-14T11:40:42.681914900Z"
    }
   },
   "id": "9aa3615049215e2f"
  },
  {
   "cell_type": "markdown",
   "source": [
    "## 1.3 Create Kernel Point"
   ],
   "metadata": {
    "collapsed": false
   },
   "id": "a1f87bdceee30bcd"
  },
  {
   "cell_type": "code",
   "execution_count": 11,
   "outputs": [],
   "source": [
    "from dataset.kernel import KernelPoint\n",
    "\n",
    "radi = 2.0\n",
    "kernel_point1 = KernelPoint(kernel_size=64, radius=radi)\n",
    "kernel_point1.save_kernel_point(\"dataset/kernel_points/kernel_point1.npy\")\n",
    "kernel_point2 = KernelPoint(kernel_size=128, radius=radi * 2)\n",
    "kernel_point2.save_kernel_point(\"dataset/kernel_points/kernel_point2.npy\")\n",
    "kernel_point3 = KernelPoint(kernel_size=256, radius=radi * 4)\n",
    "kernel_point3.save_kernel_point(\"dataset/kernel_points/kernel_point3.npy\")"
   ],
   "metadata": {
    "collapsed": false,
    "ExecuteTime": {
     "end_time": "2023-11-14T11:40:43.904467800Z",
     "start_time": "2023-11-14T11:40:42.697537400Z"
    }
   },
   "id": "591076ba72c71371"
  },
  {
   "cell_type": "markdown",
   "source": [
    "## 1.4 Extract features"
   ],
   "metadata": {
    "collapsed": false
   },
   "id": "820f4adbe0281dff"
  },
  {
   "cell_type": "code",
   "execution_count": 20,
   "outputs": [],
   "source": [
    "import numpy as np\n",
    "from dataset.kernel import Kernel\n",
    "\n",
    "smoothing_length = 0.5\n",
    "\n",
    "implant_features1 = Kernel(kernel_point=np.load(\"dataset/kernel_points/kernel_point1.npy\"),\n",
    "                           center_point_in_grid=np.load(\"dataset/geometry/implant_center1.npy\"),\n",
    "                           point_cloud_in_grid=np.load(\"dataset/geometry/implant_sample1.npy\", allow_pickle=True),\n",
    "                           h=smoothing_length,\n",
    "                           save_path=\"dataset/features/implant_feature1.npy\")\n",
    "\n",
    "implant_features2 = Kernel(kernel_point=np.load(\"dataset/kernel_points/kernel_point2.npy\"),\n",
    "                           center_point_in_grid=np.load(\"dataset/geometry/implant_center2.npy\"),\n",
    "                           point_cloud_in_grid=np.load(\"dataset/geometry/implant_sample2.npy\", allow_pickle=True),\n",
    "                           h=smoothing_length*2,\n",
    "                           save_path=\"dataset/features/implant_feature2.npy\")\n",
    "\n",
    "implant_features3 = Kernel(kernel_point=np.load(\"dataset/kernel_points/kernel_point3.npy\"),\n",
    "                           center_point_in_grid=np.load(\"dataset/geometry/implant_center3.npy\"),\n",
    "                           point_cloud_in_grid=np.load(\"dataset/geometry/implant_sample3.npy\", allow_pickle=True),\n",
    "                           h=smoothing_length*4,\n",
    "                           save_path=\"dataset/features/implant_feature3.npy\")\n"
   ],
   "metadata": {
    "collapsed": false,
    "ExecuteTime": {
     "end_time": "2023-11-14T11:42:44.680199500Z",
     "start_time": "2023-11-14T11:42:44.361597Z"
    }
   },
   "id": "50a814618fcd1cae"
  },
  {
   "cell_type": "code",
   "execution_count": 21,
   "outputs": [],
   "source": [
    "bone_features1 = Kernel(kernel_point=np.load(\"dataset/kernel_points/kernel_point1.npy\"),\n",
    "                        center_point_in_grid=np.load(\"dataset/geometry/bone_center1.npy\"),\n",
    "                        point_cloud_in_grid=np.load(\"dataset/geometry/bone_sample1.npy\", allow_pickle=True),\n",
    "                        h=smoothing_length,\n",
    "                        save_path=\"dataset/features/bone_feature1.npy\")\n",
    "bone_features2 = Kernel(kernel_point=np.load(\"dataset/kernel_points/kernel_point2.npy\"),\n",
    "                        center_point_in_grid=np.load(\"dataset/geometry/bone_center2.npy\"),\n",
    "                        point_cloud_in_grid=np.load(\"dataset/geometry/bone_sample2.npy\", allow_pickle=True),\n",
    "                        h=smoothing_length*2,\n",
    "                        save_path=\"dataset/features/bone_feature2.npy\")\n",
    "\n",
    "bone_features3 = Kernel(kernel_point=np.load(\"dataset/kernel_points/kernel_point3.npy\"),\n",
    "                        center_point_in_grid=np.load(\"dataset/geometry/bone_center3.npy\"),\n",
    "                        point_cloud_in_grid=np.load(\"dataset/geometry/bone_sample3.npy\", allow_pickle=True),\n",
    "                        h=smoothing_length*4,\n",
    "                        save_path=\"dataset/features/bone_feature3.npy\")"
   ],
   "metadata": {
    "collapsed": false,
    "ExecuteTime": {
     "end_time": "2023-11-14T11:42:45.154459900Z",
     "start_time": "2023-11-14T11:42:44.680199500Z"
    }
   },
   "id": "36a9d145974a304b"
  }
 ],
 "metadata": {
  "kernelspec": {
   "display_name": "Python 3",
   "language": "python",
   "name": "python3"
  },
  "language_info": {
   "codemirror_mode": {
    "name": "ipython",
    "version": 2
   },
   "file_extension": ".py",
   "mimetype": "text/x-python",
   "name": "python",
   "nbconvert_exporter": "python",
   "pygments_lexer": "ipython2",
   "version": "2.7.6"
  }
 },
 "nbformat": 4,
 "nbformat_minor": 5
}
